{
 "cells": [
  {
   "cell_type": "markdown",
   "metadata": {},
   "source": [
    "# <center>Activity-03</center>"
   ]
  },
  {
   "cell_type": "markdown",
   "metadata": {},
   "source": [
    "## Implementation of KNN ,Decision Tree & Naive-Base Classifer for Wine dataset"
   ]
  },
  {
   "cell_type": "code",
   "execution_count": 7,
   "metadata": {},
   "outputs": [],
   "source": [
    "#import libraries and dataset\n",
    "from sklearn.datasets import load_wine\n",
    "import numpy as np\n",
    "from sklearn.model_selection import KFold\n",
    "from sklearn.neighbors import KNeighborsClassifier\n",
    "from sklearn.naive_bayes import GaussianNB\n",
    "from sklearn import tree\n",
    "from sklearn.metrics import accuracy_score"
   ]
  },
  {
   "cell_type": "code",
   "execution_count": 8,
   "metadata": {},
   "outputs": [],
   "source": [
    "wine=load_wine()\n",
    "predictors=wine.data\n",
    "outcomes=wine.target"
   ]
  },
  {
   "cell_type": "markdown",
   "metadata": {},
   "source": [
    "## KNN Classifier"
   ]
  },
  {
   "cell_type": "code",
   "execution_count": 22,
   "metadata": {},
   "outputs": [
    {
     "name": "stdout",
     "output_type": "stream",
     "text": [
      "\n",
      "For 3-NN with K-Fold validation accuracy is: \n",
      "[63.888888888888886, 75.0, 63.888888888888886, 77.14285714285715, 74.28571428571429]\n",
      "\n",
      "For 5-NN with K-Fold validation accuracy is: \n",
      "[63.888888888888886, 75.0, 61.111111111111114, 74.28571428571429, 65.71428571428571]\n",
      "\n",
      "For 7-NN with K-Fold validation accuracy is: \n",
      "[69.44444444444444, 69.44444444444444, 69.44444444444444, 71.42857142857143, 68.57142857142857]\n",
      "\n",
      "For 9-NN with K-Fold validation accuracy is: \n",
      "[75.0, 69.44444444444444, 63.888888888888886, 77.14285714285715, 62.857142857142854]\n",
      "\n",
      "For 11-NN with K-Fold validation accuracy is: \n",
      "[72.22222222222221, 66.66666666666666, 63.888888888888886, 77.14285714285715, 62.857142857142854]\n",
      "\n",
      "For 13-NN with K-Fold validation accuracy is: \n",
      "[72.22222222222221, 69.44444444444444, 69.44444444444444, 74.28571428571429, 60.0]\n",
      "\n",
      "For 15-NN with K-Fold validation accuracy is: \n",
      "[72.22222222222221, 72.22222222222221, 69.44444444444444, 74.28571428571429, 60.0]\n",
      "\n",
      "For 17-NN with K-Fold validation accuracy is: \n",
      "[75.0, 72.22222222222221, 61.111111111111114, 74.28571428571429, 62.857142857142854]\n",
      "\n",
      "For 19-NN with K-Fold validation accuracy is: \n",
      "[75.0, 72.22222222222221, 61.111111111111114, 74.28571428571429, 62.857142857142854]\n"
     ]
    }
   ],
   "source": [
    "kfold=KFold(5,True,1)\n",
    "k=1\n",
    "for k in range(3,20,2):\n",
    "    knn=KNeighborsClassifier(k)\n",
    "    knn_acc=[]\n",
    "    for knn_train,knn_test in kfold.split(predictors):\n",
    "        knn.fit(predictors[knn_train],outcomes[knn_train])\n",
    "        knn_predict=knn.predict(predictors[knn_test])\n",
    "        knn_acc.append(accuracy_score(outcomes[knn_test],knn_predict)*100)\n",
    "    print('\\nFor %s-NN with K-Fold validation accuracy is: ' %(k))\n",
    "    print(knn_acc)"
   ]
  },
  {
   "cell_type": "markdown",
   "metadata": {},
   "source": [
    "## Decision Tree Classifier"
   ]
  },
  {
   "cell_type": "code",
   "execution_count": 23,
   "metadata": {},
   "outputs": [
    {
     "name": "stdout",
     "output_type": "stream",
     "text": [
      "\n",
      "For 1-Fold validation accuracy is: \n",
      "[88.88888888888889]\n",
      "\n",
      "For 2-Fold validation accuracy is: \n",
      "[94.44444444444444]\n",
      "\n",
      "For 3-Fold validation accuracy is: \n",
      "[83.33333333333334]\n",
      "\n",
      "For 4-Fold validation accuracy is: \n",
      "[88.57142857142857]\n",
      "\n",
      "For 5-Fold validation accuracy is: \n",
      "[77.14285714285715]\n"
     ]
    }
   ],
   "source": [
    "DT_C=tree.DecisionTreeClassifier()\n",
    "\n",
    "k=1\n",
    "for DT_train,DT_test in kfold.split(predictors):\n",
    "    DT_acc=[]\n",
    "    DT_C.fit(predictors[DT_train],outcomes[DT_train])\n",
    "    DT_predict=DT_C.predict(predictors[DT_test])\n",
    "    DT_acc.append(accuracy_score(outcomes[DT_test],DT_predict)*100)\n",
    "    print('\\nFor %s-Fold validation accuracy is: ' %(k))\n",
    "    print(DT_acc)\n",
    "    k+=1"
   ]
  },
  {
   "cell_type": "markdown",
   "metadata": {},
   "source": [
    "## Naive_Base (GaussianNB)"
   ]
  },
  {
   "cell_type": "code",
   "execution_count": 25,
   "metadata": {},
   "outputs": [
    {
     "name": "stdout",
     "output_type": "stream",
     "text": [
      "\n",
      "For 1-Fold validation accuracy is: \n",
      "[100.0]\n",
      "\n",
      "For 2-Fold validation accuracy is: \n",
      "[100.0]\n",
      "\n",
      "For 3-Fold validation accuracy is: \n",
      "[94.44444444444444]\n",
      "\n",
      "For 4-Fold validation accuracy is: \n",
      "[97.14285714285714]\n",
      "\n",
      "For 5-Fold validation accuracy is: \n",
      "[97.14285714285714]\n"
     ]
    }
   ],
   "source": [
    "GNB=GaussianNB()\n",
    "k=1\n",
    "for GNB_train,GNB_test in kfold.split(predictors):\n",
    "    GNB_acc=[]\n",
    "    GNB.fit(predictors[GNB_train],outcomes[GNB_train])\n",
    "    GNB_predict=GNB.predict(predictors[GNB_test])\n",
    "    GNB_acc.append(accuracy_score(outcomes[GNB_test],GNB_predict)*100)\n",
    "    print('\\nFor %s-Fold validation accuracy is: ' %(k))\n",
    "    print(GNB_acc)\n",
    "    k+=1               "
   ]
  },
  {
   "cell_type": "code",
   "execution_count": null,
   "metadata": {},
   "outputs": [],
   "source": []
  },
  {
   "cell_type": "code",
   "execution_count": null,
   "metadata": {},
   "outputs": [],
   "source": []
  },
  {
   "cell_type": "code",
   "execution_count": null,
   "metadata": {},
   "outputs": [],
   "source": []
  },
  {
   "cell_type": "code",
   "execution_count": null,
   "metadata": {},
   "outputs": [],
   "source": []
  }
 ],
 "metadata": {
  "kernelspec": {
   "display_name": "Python 3",
   "language": "python",
   "name": "python3"
  },
  "language_info": {
   "codemirror_mode": {
    "name": "ipython",
    "version": 3
   },
   "file_extension": ".py",
   "mimetype": "text/x-python",
   "name": "python",
   "nbconvert_exporter": "python",
   "pygments_lexer": "ipython3",
   "version": "3.7.1"
  }
 },
 "nbformat": 4,
 "nbformat_minor": 2
}
