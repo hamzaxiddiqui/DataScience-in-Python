{
 "cells": [
  {
   "cell_type": "markdown",
   "metadata": {},
   "source": [
    "# <center>Activity-03</center>"
   ]
  },
  {
   "cell_type": "markdown",
   "metadata": {},
   "source": [
    "## Implementation of KNN ,Decision Tree & Naive-Base Classifer for Wine dataset"
   ]
  },
  {
   "cell_type": "code",
   "execution_count": 7,
   "metadata": {},
   "outputs": [],
   "source": [
    "#import libraries and dataset\n",
    "from sklearn.datasets import load_wine\n",
    "import numpy as np\n",
    "from sklearn.model_selection import KFold\n",
    "from sklearn.neighbors import KNeighborsClassifier\n",
    "from sklearn.naive_bayes import GaussianNB\n",
    "from sklearn import tree\n",
    "from sklearn.metrics import accuracy_score"
   ]
  },
  {
   "cell_type": "code",
   "execution_count": 8,
   "metadata": {},
   "outputs": [],
   "source": [
    "wine=load_wine()\n",
    "predictors=wine.data\n",
    "outcomes=wine.target"
   ]
  },
  {
   "cell_type": "markdown",
   "metadata": {},
   "source": [
    "## KNN Classifier"
   ]
  },
  {
   "cell_type": "code",
   "execution_count": 12,
   "metadata": {},
   "outputs": [
    {
     "name": "stdout",
     "output_type": "stream",
     "text": [
      "\n",
      "For 3-NN with K-Fold validation accuracy is: \n",
      "[71.66666666666667, 64.40677966101694, 72.88135593220339]\n",
      "\n",
      "For 5-NN with K-Fold validation accuracy is: \n",
      "[65.0, 71.1864406779661, 71.1864406779661]\n",
      "\n",
      "For 7-NN with K-Fold validation accuracy is: \n",
      "[65.0, 76.27118644067797, 67.79661016949152]\n",
      "\n",
      "For 9-NN with K-Fold validation accuracy is: \n",
      "[63.33333333333333, 69.49152542372882, 67.79661016949152]\n",
      "\n",
      "For 11-NN with K-Fold validation accuracy is: \n",
      "[66.66666666666666, 72.88135593220339, 67.79661016949152]\n",
      "\n",
      "For 13-NN with K-Fold validation accuracy is: \n",
      "[68.33333333333333, 71.1864406779661, 72.88135593220339]\n",
      "\n",
      "For 15-NN with K-Fold validation accuracy is: \n",
      "[70.0, 66.10169491525424, 71.1864406779661]\n",
      "\n",
      "For 17-NN with K-Fold validation accuracy is: \n",
      "[73.33333333333333, 71.1864406779661, 66.10169491525424]\n",
      "\n",
      "For 19-NN with K-Fold validation accuracy is: \n",
      "[71.66666666666667, 72.88135593220339, 66.10169491525424]\n"
     ]
    }
   ],
   "source": [
    "kfold=KFold(3,True,1)\n",
    "k=1\n",
    "for k in range(3,20,2):\n",
    "    knn=KNeighborsClassifier(k)\n",
    "    knn_acc=[]\n",
    "    for knn_train,knn_test in kfold.split(predictors):\n",
    "        knn.fit(predictors[knn_train],outcomes[knn_train])\n",
    "        knn_predict=knn.predict(predictors[knn_test])\n",
    "        knn_acc.append(accuracy_score(outcomes[knn_test],knn_predict)*100)\n",
    "    print('\\nFor %s-NN with K-Fold validation accuracy is: ' %(k))\n",
    "    print(knn_acc)"
   ]
  },
  {
   "cell_type": "markdown",
   "metadata": {},
   "source": [
    "## Decision Tree Classifier"
   ]
  },
  {
   "cell_type": "code",
   "execution_count": 17,
   "metadata": {},
   "outputs": [
    {
     "name": "stdout",
     "output_type": "stream",
     "text": [
      "\n",
      "For 1-Fold validation accuracy is: \n",
      "[95.0]\n",
      "\n",
      "For 2-Fold validation accuracy is: \n",
      "[93.22033898305084]\n",
      "\n",
      "For 3-Fold validation accuracy is: \n",
      "[93.22033898305084]\n"
     ]
    }
   ],
   "source": [
    "DT_C=tree.DecisionTreeClassifier()\n",
    "\n",
    "k=1\n",
    "for DT_train,DT_test in kfold.split(predictors):\n",
    "    DT_acc=[]\n",
    "    DT_C.fit(predictors[DT_train],outcomes[DT_train])\n",
    "    DT_predict=DT_C.predict(predictors[DT_test])\n",
    "    DT_acc.append(accuracy_score(outcomes[DT_test],DT_predict)*100)\n",
    "    print('\\nFor %s-Fold validation accuracy is: ' %(k))\n",
    "    print(DT_acc)\n",
    "    k+=1"
   ]
  },
  {
   "cell_type": "markdown",
   "metadata": {},
   "source": [
    "## Naive_Base (GaussianNB)"
   ]
  },
  {
   "cell_type": "code",
   "execution_count": 21,
   "metadata": {},
   "outputs": [
    {
     "name": "stdout",
     "output_type": "stream",
     "text": [
      "\n",
      "For 1-Fold validation accuracy is: \n",
      "[0.9666666666666667]\n",
      "\n",
      "For 2-Fold validation accuracy is: \n",
      "[0.9830508474576272]\n",
      "\n",
      "For 3-Fold validation accuracy is: \n",
      "[0.9830508474576272]\n"
     ]
    }
   ],
   "source": [
    "GNB=GaussianNB()\n",
    "k=1\n",
    "for GNB_train,GNB_test in kfold.split(predictors):\n",
    "    GNB_acc=[]\n",
    "    GNB.fit(predictors[GNB_train],outcomes[GNB_train])\n",
    "    GNB_predict=GNB.predict(predictors[GNB_test])\n",
    "    GNB_acc.append(accuracy_score(outcomes[GNB_test],GNB_predict))\n",
    "    print('\\nFor %s-Fold validation accuracy is: ' %(k))\n",
    "    print(GNB_acc)\n",
    "    k+=1               "
   ]
  },
  {
   "cell_type": "code",
   "execution_count": null,
   "metadata": {},
   "outputs": [],
   "source": []
  },
  {
   "cell_type": "code",
   "execution_count": null,
   "metadata": {},
   "outputs": [],
   "source": []
  },
  {
   "cell_type": "code",
   "execution_count": null,
   "metadata": {},
   "outputs": [],
   "source": []
  },
  {
   "cell_type": "code",
   "execution_count": null,
   "metadata": {},
   "outputs": [],
   "source": []
  }
 ],
 "metadata": {
  "kernelspec": {
   "display_name": "Python 3",
   "language": "python",
   "name": "python3"
  },
  "language_info": {
   "codemirror_mode": {
    "name": "ipython",
    "version": 3
   },
   "file_extension": ".py",
   "mimetype": "text/x-python",
   "name": "python",
   "nbconvert_exporter": "python",
   "pygments_lexer": "ipython3",
   "version": "3.7.1"
  }
 },
 "nbformat": 4,
 "nbformat_minor": 2
}
