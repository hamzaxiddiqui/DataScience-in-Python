{
 "cells": [
  {
   "cell_type": "markdown",
   "metadata": {},
   "source": [
    "# <center>Activity-02</center>"
   ]
  },
  {
   "cell_type": "markdown",
   "metadata": {},
   "source": [
    "## Implementation of KNN,Decision tree,Naive-Base Classifier for Iris Dataset "
   ]
  },
  {
   "cell_type": "code",
   "execution_count": 2,
   "metadata": {},
   "outputs": [],
   "source": [
    "#import libraries and dataset\n",
    "from sklearn.datasets import load_iris\n",
    "from sklearn.model_selection import KFold\n",
    "from sklearn.neighbors import KNeighborsClassifier\n",
    "from sklearn import tree\n",
    "import matplotlib.pyplot as plt\n",
    "from sklearn.naive_bayes import GaussianNB\n",
    "from sklearn.metrics import  accuracy_score\n",
    "import numpy as np"
   ]
  },
  {
   "cell_type": "code",
   "execution_count": 3,
   "metadata": {},
   "outputs": [],
   "source": [
    "iris=load_iris()\n",
    "predictors=iris.data\n",
    "outcomes=iris.target\n"
   ]
  },
  {
   "cell_type": "code",
   "execution_count": 4,
   "metadata": {},
   "outputs": [
    {
     "name": "stdout",
     "output_type": "stream",
     "text": [
      "Shape of Iris dataset features:  (150, 4)\n",
      "Shape of Iris dataset Outcome:  (150,)\n"
     ]
    }
   ],
   "source": [
    "print('Shape of Iris dataset features: ',np.shape(predictors))\n",
    "print('Shape of Iris dataset Outcome: ',np.shape(outcomes))"
   ]
  },
  {
   "cell_type": "markdown",
   "metadata": {},
   "source": [
    "## KNN Classifier"
   ]
  },
  {
   "cell_type": "code",
   "execution_count": 5,
   "metadata": {},
   "outputs": [
    {
     "name": "stdout",
     "output_type": "stream",
     "text": [
      "\n",
      "For 3-NN with 3-Fold validation accuracy  is:\n",
      "[98.0, 94.0, 94.0]\n",
      "\n",
      "For 5-NN with 3-Fold validation accuracy  is:\n",
      "[98.0, 92.0, 94.0]\n",
      "\n",
      "For 7-NN with 3-Fold validation accuracy  is:\n",
      "[98.0, 90.0, 94.0]\n",
      "\n",
      "For 9-NN with 3-Fold validation accuracy  is:\n",
      "[98.0, 92.0, 96.0]\n",
      "\n",
      "For 11-NN with 3-Fold validation accuracy  is:\n",
      "[98.0, 92.0, 96.0]\n",
      "\n",
      "For 13-NN with 3-Fold validation accuracy  is:\n",
      "[98.0, 90.0, 98.0]\n",
      "\n",
      "For 15-NN with 3-Fold validation accuracy  is:\n",
      "[98.0, 90.0, 98.0]\n",
      "\n",
      "For 17-NN with 3-Fold validation accuracy  is:\n",
      "[98.0, 90.0, 96.0]\n",
      "\n",
      "For 19-NN with 3-Fold validation accuracy  is:\n",
      "[98.0, 90.0, 96.0]\n"
     ]
    }
   ],
   "source": [
    "kfold=KFold(3,True,1)\n",
    "Fold=1\n",
    "for k in range(3,20,2):\n",
    "    knn_test_acc=[]\n",
    "    knn_c=KNeighborsClassifier(n_neighbors=k)\n",
    "    for train,test in kfold.split(predictors):\n",
    "        knn_c.fit(predictors[train],outcomes[train])\n",
    "        knn_predict=knn_c.predict(predictors[test])\n",
    "        knn_test_acc.append(accuracy_score(outcomes[test],knn_predict)*100)\n",
    "        \n",
    "    print('\\nFor %s-NN with 3-Fold validation accuracy  is:' %(k))\n",
    "    print(knn_test_acc)\n"
   ]
  },
  {
   "cell_type": "markdown",
   "metadata": {},
   "source": [
    "## Decision tree Classifier"
   ]
  },
  {
   "cell_type": "code",
   "execution_count": 6,
   "metadata": {},
   "outputs": [
    {
     "name": "stdout",
     "output_type": "stream",
     "text": [
      "\n",
      "For 1-Fold accuracy is: \n",
      "[96.0]\n",
      "\n",
      "For 2-Fold accuracy is: \n",
      "[98.0]\n",
      "\n",
      "For 3-Fold accuracy is: \n",
      "[88.0]\n"
     ]
    }
   ],
   "source": [
    "DT_C=tree.DecisionTreeClassifier()\n",
    "k=1\n",
    "for train,test in kfold.split(predictors):\n",
    "    DT_test_acc=[]\n",
    "    DT_C.fit(predictors[train],outcomes[train])\n",
    "    DT_C_predict=DT_C.predict(predictors[test])\n",
    "    DT_test_acc.append(accuracy_score(outcomes[test],DT_C_predict)*100)\n",
    "    print('\\nFor %s-Fold accuracy is: ' %(k))\n",
    "    print(DT_test_acc)\n",
    "    k+=1"
   ]
  },
  {
   "cell_type": "markdown",
   "metadata": {},
   "source": [
    "## Naive-Base (GaussianNB)"
   ]
  },
  {
   "cell_type": "code",
   "execution_count": 7,
   "metadata": {},
   "outputs": [
    {
     "name": "stdout",
     "output_type": "stream",
     "text": [
      "\n",
      "Accuracy score for 1-Fold validation is : \n",
      "[94.0]\n",
      "\n",
      "Accuracy score for 2-Fold validation is : \n",
      "[100.0]\n",
      "\n",
      "Accuracy score for 3-Fold validation is : \n",
      "[92.0]\n"
     ]
    }
   ],
   "source": [
    "GNB=GaussianNB()\n",
    "k=1\n",
    "\n",
    "for train,test in kfold.split(predictors):\n",
    "    GNB_test_acc=[]\n",
    "    GNB.fit(predictors[train],outcomes[train])\n",
    "    GNB_predict=GNB.predict(predictors[test])\n",
    "    GNB_test_acc.append(accuracy_score(outcomes[test],GNB_predict)*100)\n",
    "    \n",
    "    print('\\nAccuracy score for %s-Fold validation is : ' %(k))\n",
    "    print(GNB_test_acc)\n",
    "    k+=1\n"
   ]
  },
  {
   "cell_type": "code",
   "execution_count": null,
   "metadata": {},
   "outputs": [],
   "source": []
  }
 ],
 "metadata": {
  "kernelspec": {
   "display_name": "Python 3",
   "language": "python",
   "name": "python3"
  },
  "language_info": {
   "codemirror_mode": {
    "name": "ipython",
    "version": 3
   },
   "file_extension": ".py",
   "mimetype": "text/x-python",
   "name": "python",
   "nbconvert_exporter": "python",
   "pygments_lexer": "ipython3",
   "version": "3.7.1"
  }
 },
 "nbformat": 4,
 "nbformat_minor": 2
}
